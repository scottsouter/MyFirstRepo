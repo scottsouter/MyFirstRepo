{
 "cells": [
  {
   "cell_type": "code",
   "execution_count": 1,
   "id": "2703a4b6-b2cc-4eda-a3de-7b557cf385e6",
   "metadata": {},
   "outputs": [
    {
     "name": "stdout",
     "output_type": "stream",
     "text": [
      "Hello, world!\n"
     ]
    }
   ],
   "source": [
    "print(\"Hello, world!\")"
   ]
  },
  {
   "cell_type": "code",
   "execution_count": null,
   "id": "6686085f-2466-463a-ad58-d7b03805545a",
   "metadata": {},
   "outputs": [],
   "source": []
  },
  {
   "cell_type": "code",
   "execution_count": null,
   "id": "166f286d-8d2d-4b47-86f0-ce937118fa02",
   "metadata": {},
   "outputs": [],
   "source": []
  },
  {
   "cell_type": "markdown",
   "id": "0d94ca07-85d4-4974-8862-c772b6a9cc26",
   "metadata": {},
   "source": [
    "## My First Markdown Heading"
   ]
  },
  {
   "cell_type": "markdown",
   "id": "ca11da4e-0792-4f18-b2fb-ba26d41e7c24",
   "metadata": {},
   "source": [
    "this is some **bold** text"
   ]
  },
  {
   "cell_type": "markdown",
   "id": "6b92976e-ec13-4892-abaa-295755b6da3e",
   "metadata": {},
   "source": [
    "1. First item\n",
    "2. second item\n",
    "3. third item"
   ]
  },
  {
   "cell_type": "code",
   "execution_count": null,
   "id": "c33d5c1d-d330-41c9-8526-01a6a81aa8ec",
   "metadata": {},
   "outputs": [],
   "source": []
  },
  {
   "cell_type": "markdown",
   "id": "d8c80d9c-94b0-4b91-bff7-045fdcc60bbe",
   "metadata": {},
   "source": [
    "my_var = 5"
   ]
  },
  {
   "cell_type": "markdown",
   "id": "7908aeb9-a3ce-4d60-84b9-5b92fe245a8d",
   "metadata": {},
   "source": [
    "result = my_var * 2\n",
    "print (result)"
   ]
  },
  {
   "cell_type": "code",
   "execution_count": null,
   "id": "8049bedd-b93b-42a9-833d-18536365710a",
   "metadata": {},
   "outputs": [],
   "source": []
  }
 ],
 "metadata": {
  "kernelspec": {
   "display_name": "Python 3 (ipykernel)",
   "language": "python",
   "name": "python3"
  },
  "language_info": {
   "codemirror_mode": {
    "name": "ipython",
    "version": 3
   },
   "file_extension": ".py",
   "mimetype": "text/x-python",
   "name": "python",
   "nbconvert_exporter": "python",
   "pygments_lexer": "ipython3",
   "version": "3.10.9"
  }
 },
 "nbformat": 4,
 "nbformat_minor": 5
}
